{
 "cells": [
  {
   "cell_type": "markdown",
   "metadata": {},
   "source": [
    "# Handling Video Files\n",
    "- [ffmpeg tutorial](https://en.wikibooks.org/wiki/FFMPEG_An_Intermediate_Guide/image_sequence#Making_an_Image_Sequence_from_a_video)"
   ]
  },
  {
   "cell_type": "markdown",
   "metadata": {},
   "source": [
    "## Workaround: Video -> Image sequence\n",
    "- oneoff solution\n",
    "- converts to sequentially-numbered image files\n",
    "- can then be read with skimage.io.imread_collection\n",
    "- below: filename + 5 digits, padded-left with zeros."
   ]
  },
  {
   "cell_type": "code",
   "execution_count": 2,
   "metadata": {},
   "outputs": [
    {
     "name": "stdout",
     "output_type": "stream",
     "text": [
      "ffmpeg version 3.4.6-0ubuntu0.18.04.1 Copyright (c) 2000-2019 the FFmpeg developers\n",
      "  built with gcc 7 (Ubuntu 7.3.0-16ubuntu3)\n",
      "  configuration: --prefix=/usr --extra-version=0ubuntu0.18.04.1 --toolchain=hardened --libdir=/usr/lib/x86_64-linux-gnu --incdir=/usr/include/x86_64-linux-gnu --enable-gpl --disable-stripping --enable-avresample --enable-avisynth --enable-gnutls --enable-ladspa --enable-libass --enable-libbluray --enable-libbs2b --enable-libcaca --enable-libcdio --enable-libflite --enable-libfontconfig --enable-libfreetype --enable-libfribidi --enable-libgme --enable-libgsm --enable-libmp3lame --enable-libmysofa --enable-libopenjpeg --enable-libopenmpt --enable-libopus --enable-libpulse --enable-librubberband --enable-librsvg --enable-libshine --enable-libsnappy --enable-libsoxr --enable-libspeex --enable-libssh --enable-libtheora --enable-libtwolame --enable-libvorbis --enable-libvpx --enable-libwavpack --enable-libwebp --enable-libx265 --enable-libxml2 --enable-libxvid --enable-libzmq --enable-libzvbi --enable-omx --enable-openal --enable-opengl --enable-sdl2 --enable-libdc1394 --enable-libdrm --enable-libiec61883 --enable-chromaprint --enable-frei0r --enable-libopencv --enable-libx264 --enable-shared\n",
      "  libavutil      55. 78.100 / 55. 78.100\n",
      "  libavcodec     57.107.100 / 57.107.100\n",
      "  libavformat    57. 83.100 / 57. 83.100\n",
      "  libavdevice    57. 10.100 / 57. 10.100\n",
      "  libavfilter     6.107.100 /  6.107.100\n",
      "  libavresample   3.  7.  0 /  3.  7.  0\n",
      "  libswscale      4.  8.100 /  4.  8.100\n",
      "  libswresample   2.  9.100 /  2.  9.100\n",
      "  libpostproc    54.  7.100 / 54.  7.100\n",
      "Input #0, mov,mp4,m4a,3gp,3g2,mj2, from 'mattfoley.mp4':\n",
      "  Metadata:\n",
      "    major_brand     : mp42\n",
      "    minor_version   : 0\n",
      "    compatible_brands: mp42mp41isom\n",
      "    creation_time   : 2017-10-22T18:15:00.000000Z\n",
      "  Duration: 00:00:01.82, start: 0.000000, bitrate: 334 kb/s\n",
      "    Stream #0:0(und): Video: h264 (Constrained Baseline) (avc1 / 0x31637661), yuv420p, 216x218, 330 kb/s, 14.84 fps, 28.58 tbr, 1k tbn, 2k tbc (default)\n",
      "    Metadata:\n",
      "      creation_time   : 2017-10-22T18:15:00.000000Z\n",
      "      handler_name    : Twitter v1.0-757770b7c8e9d79a526cdff77e74666386274fdf\n",
      "      encoder         : AVC Coding\n",
      "Stream mapping:\n",
      "  Stream #0:0 -> #0:0 (h264 (native) -> png (native))\n",
      "Press [q] to stop, [?] for help\n",
      "Output #0, image2, to 'video-frame%05d.png':\n",
      "  Metadata:\n",
      "    major_brand     : mp42\n",
      "    minor_version   : 0\n",
      "    compatible_brands: mp42mp41isom\n",
      "    encoder         : Lavf57.83.100\n",
      "    Stream #0:0(und): Video: png, rgb24, 216x218, q=2-31, 200 kb/s, 28.58 fps, 28.58 tbn, 28.58 tbc (default)\n",
      "    Metadata:\n",
      "      creation_time   : 2017-10-22T18:15:00.000000Z\n",
      "      handler_name    : Twitter v1.0-757770b7c8e9d79a526cdff77e74666386274fdf\n",
      "      encoder         : Lavc57.107.100 png\n",
      "frame=   53 fps=0.0 q=-0.0 Lsize=N/A time=00:00:01.85 bitrate=N/A dup=26 drop=0 speed=15.6x    \n",
      "video:5102kB audio:0kB subtitle:0kB other streams:0kB global headers:0kB muxing overhead: unknown\n"
     ]
    }
   ],
   "source": [
    "!ffmpeg -i \"mattfoley.mp4\" -f image2 \"video-frame%05d.png\""
   ]
  },
  {
   "cell_type": "code",
   "execution_count": 3,
   "metadata": {},
   "outputs": [
    {
     "name": "stdout",
     "output_type": "stream",
     "text": [
      "video-frame00001.png  video-frame00019.png  video-frame00037.png\n",
      "video-frame00002.png  video-frame00020.png  video-frame00038.png\n",
      "video-frame00003.png  video-frame00021.png  video-frame00039.png\n",
      "video-frame00004.png  video-frame00022.png  video-frame00040.png\n",
      "video-frame00005.png  video-frame00023.png  video-frame00041.png\n",
      "video-frame00006.png  video-frame00024.png  video-frame00042.png\n",
      "video-frame00007.png  video-frame00025.png  video-frame00043.png\n",
      "video-frame00008.png  video-frame00026.png  video-frame00044.png\n",
      "video-frame00009.png  video-frame00027.png  video-frame00045.png\n",
      "video-frame00010.png  video-frame00028.png  video-frame00046.png\n",
      "video-frame00011.png  video-frame00029.png  video-frame00047.png\n",
      "video-frame00012.png  video-frame00030.png  video-frame00048.png\n",
      "video-frame00013.png  video-frame00031.png  video-frame00049.png\n",
      "video-frame00014.png  video-frame00032.png  video-frame00050.png\n",
      "video-frame00015.png  video-frame00033.png  video-frame00051.png\n",
      "video-frame00016.png  video-frame00034.png  video-frame00052.png\n",
      "video-frame00017.png  video-frame00035.png  video-frame00053.png\n",
      "video-frame00018.png  video-frame00036.png\n"
     ]
    }
   ],
   "source": [
    "!ls video-frame*"
   ]
  },
  {
   "cell_type": "markdown",
   "metadata": {},
   "source": [
    "## PyAV - uses FFmpeg or LibAV libs to read image data. Cython-based.\n",
    "- PyAV obsolete?"
   ]
  },
  {
   "cell_type": "code",
   "execution_count": 5,
   "metadata": {},
   "outputs": [],
   "source": [
    "#import av"
   ]
  },
  {
   "cell_type": "markdown",
   "metadata": {},
   "source": [
    "## [MoviePy](http://zulko.github.io/moviepy/)\n",
    "- basic video editing\n",
    "- invokes FFmpeg via subprocess\n",
    "- pipes decoded video out\n",
    "- warning: brittle, beware of large (?) videos"
   ]
  },
  {
   "cell_type": "code",
   "execution_count": 8,
   "metadata": {},
   "outputs": [
    {
     "name": "stdout",
     "output_type": "stream",
     "text": [
      "<moviepy.video.io.VideoFileClip.VideoFileClip object at 0x7f0078e00630>\n"
     ]
    }
   ],
   "source": [
    "from moviepy.editor import VideoFileClip\n",
    "myclip = VideoFileClip('mattfoley.mp4')\n",
    "print(myclip)"
   ]
  },
  {
   "cell_type": "markdown",
   "metadata": {},
   "source": [
    "## [Imageio](http://imageio.github.io/)\n",
    "\n",
    "- To use imageio ffmpeg plugin, 'pip install imageio-ffmpeg'"
   ]
  },
  {
   "cell_type": "code",
   "execution_count": 11,
   "metadata": {},
   "outputs": [
    {
     "name": "stdout",
     "output_type": "stream",
     "text": [
      "{'plugin': 'ffmpeg', 'nframes': inf, 'ffmpeg_version': '4.1-static https://johnvansickle.com/ffmpeg/ built with gcc 6.3.0 (Debian 6.3.0-18+deb9u1) 20170516', 'codec': 'h264', 'pix_fmt': 'yuv420p', 'fps': 28.58, 'source_size': (216, 218), 'size': (216, 218), 'duration': 1.82}\n"
     ]
    }
   ],
   "source": [
    "import imageio\n",
    "file = 'mattfoley.mp4'\n",
    "vid  = imageio.get_reader(file, 'ffmpeg')\n",
    "images = vid.iter_data()\n",
    "\n",
    "#for image in images:\n",
    "    #print(image)\n",
    "    \n",
    "metadata = vid.get_meta_data()\n",
    "print(metadata)"
   ]
  }
 ],
 "metadata": {
  "kernelspec": {
   "display_name": "Python 3",
   "language": "python",
   "name": "python3"
  },
  "language_info": {
   "codemirror_mode": {
    "name": "ipython",
    "version": 3
   },
   "file_extension": ".py",
   "mimetype": "text/x-python",
   "name": "python",
   "nbconvert_exporter": "python",
   "pygments_lexer": "ipython3",
   "version": "3.6.9"
  }
 },
 "nbformat": 4,
 "nbformat_minor": 4
}
